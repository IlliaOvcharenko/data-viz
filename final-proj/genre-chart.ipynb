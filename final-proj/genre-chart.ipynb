{
 "cells": [
  {
   "cell_type": "code",
   "execution_count": 19,
   "metadata": {},
   "outputs": [],
   "source": [
    "import json\n",
    "\n",
    "import altair as alt\n",
    "import numpy as np\n",
    "import pandas as pd\n",
    "\n",
    "from functools import partial\n",
    "from pathlib import Path\n",
    "from pandas.tseries.offsets import MonthBegin"
   ]
  },
  {
   "cell_type": "code",
   "execution_count": 2,
   "metadata": {},
   "outputs": [],
   "source": [
    "data_folder = Path(\"data\")\n",
    "figs_folder = Path(\"figs\")"
   ]
  },
  {
   "cell_type": "code",
   "execution_count": 3,
   "metadata": {},
   "outputs": [],
   "source": [
    "df = pd.read_csv(\n",
    "    data_folder / \"Apple Music Play Activity.csv\", \n",
    "    parse_dates=[\n",
    "        'Event End Timestamp', \n",
    "        'Event Received Timestamp',\n",
    "        'Event Start Timestamp'\n",
    "    ]\n",
    ")\n",
    "\n",
    "\n",
    "df = df[df[\"Event Start Timestamp\"].notna()]\n",
    "df[\"year_month\"] = df[\"Event Start Timestamp\"].apply(lambda dt: f\"{dt.year}-{dt.month}\")\n",
    "df[\"year_month\"] = df[\"year_month\"].apply(lambda s: pd.to_datetime(s, format=\"%Y-%m\"))\n",
    "df = df[df[\"year_month\"] > pd.to_datetime(\"2018\", format=\"%Y\")]\n",
    "df = df[df[\"Play Duration Milliseconds\"] > 0.0]"
   ]
  },
  {
   "cell_type": "code",
   "execution_count": 4,
   "metadata": {},
   "outputs": [],
   "source": [
    "color_df = pd.read_csv(data_folder / \"material-colors.csv\")\n",
    "color_df = color_df[(color_df.color_name != \"white\") & (color_df.color_name != \"black\")]\n",
    "color_df = color_df.reset_index(drop=True)\n",
    "\n",
    "color_df[\"base_color\"] = color_df.color_name.apply(lambda s: s.split(\"-\")[0])\n",
    "color_df[\"intensity\"] = color_df.color_name \\\n",
    "                                .apply(lambda s: int(\"\".join(filter(str.isdigit, s.split(\"-\")[1]))))\n",
    "color_df[\"a_letter\"] = color_df.color_name.apply(lambda s: \"A\" in s.split(\"-\")[1])"
   ]
  },
  {
   "cell_type": "code",
   "execution_count": 5,
   "metadata": {},
   "outputs": [],
   "source": [
    "song_df = pd.merge(\n",
    "    df,\n",
    "    df.groupby([\"Artist Name\", \"Content Name\"]) \\\n",
    "      .size().reset_index() \\\n",
    "      .rename(columns={0: \"comp_count\"}),\n",
    "    on=[\"Artist Name\", \"Content Name\"],\n",
    "    how=\"left\"\n",
    ").sort_values(\n",
    "    \"Event Start Timestamp\"\n",
    ").groupby(\n",
    "    [\"Artist Name\", \"Content Name\"]\n",
    ").agg({\n",
    "    \"Feature Name\": \"first\",\n",
    "    \"Event Start Timestamp\": \"first\",\n",
    "    \"Genre\": \"first\",\n",
    "    \"comp_count\": \"first\",\n",
    "}).sort_values(\"Event Start Timestamp\")\n",
    "\n",
    "song_df[\"eventmonth\"] = song_df[\"Event Start Timestamp\"].round(\"D\") - MonthBegin(1)\n",
    "song_df = song_df.reset_index()"
   ]
  },
  {
   "cell_type": "code",
   "execution_count": 6,
   "metadata": {},
   "outputs": [],
   "source": [
    "genre_df = pd.merge(\n",
    "    song_df,\n",
    "    song_df.groupby(\"eventmonth\") \\\n",
    "           .size().reset_index() \\\n",
    "           .rename(columns={0: \"monthcount\"}),\n",
    "    on=\"eventmonth\",\n",
    "    how=\"left\",\n",
    "\n",
    ")\n",
    "\n",
    "genre_portion_df = genre_df.sort_values(\n",
    "    by=\"comp_count\",\n",
    "    ascending=False,\n",
    ").groupby(\n",
    "    [\"eventmonth\", \"Genre\"]\n",
    ").agg({\n",
    "    \"monthcount\": \"first\",\n",
    "    \"comp_count\": \"first\",\n",
    "    \"Artist Name\": \"first\",\n",
    "    \"Content Name\": \"first\",\n",
    "})\n",
    "\n",
    "\n",
    "genre_portion_df[\"portion\"] =  genre_df.groupby(\n",
    "    [\"eventmonth\", \"Genre\"]\n",
    ").size() / genre_portion_df[\"monthcount\"]\n",
    "\n",
    "genre_portion_df = genre_portion_df.reset_index()"
   ]
  },
  {
   "cell_type": "code",
   "execution_count": 18,
   "metadata": {},
   "outputs": [
    {
     "data": {
      "text/plain": [
       "[0, 0, 0, 1]"
      ]
     },
     "execution_count": 18,
     "metadata": {},
     "output_type": "execute_result"
    }
   ],
   "source": [
    "list(map(partial(round, ), np.arange(0.0, 1.0, 0.25).tolist()))"
   ]
  },
  {
   "cell_type": "code",
   "execution_count": 16,
   "metadata": {},
   "outputs": [
    {
     "ename": "SchemaValidationError",
     "evalue": "Invalid specification\n\n        altair.vegalite.v4.schema.core.Axis->0, validating 'type'\n\n        <map object at 0x7f6da93315e0> is not of type 'array'\n        ",
     "output_type": "error",
     "traceback": [
      "\u001b[0;31m---------------------------------------------------------------------------\u001b[0m",
      "\u001b[0;31mSchemaValidationError\u001b[0m                     Traceback (most recent call last)",
      "\u001b[0;32m<ipython-input-16-de451c969d28>\u001b[0m in \u001b[0;36m<module>\u001b[0;34m\u001b[0m\n\u001b[1;32m     17\u001b[0m         \u001b[0;34m\"portion:Q\"\u001b[0m\u001b[0;34m,\u001b[0m\u001b[0;34m\u001b[0m\u001b[0;34m\u001b[0m\u001b[0m\n\u001b[1;32m     18\u001b[0m         \u001b[0mstack\u001b[0m\u001b[0;34m=\u001b[0m\u001b[0;32mTrue\u001b[0m\u001b[0;34m,\u001b[0m\u001b[0;34m\u001b[0m\u001b[0;34m\u001b[0m\u001b[0m\n\u001b[0;32m---> 19\u001b[0;31m         \u001b[0maxis\u001b[0m\u001b[0;34m=\u001b[0m\u001b[0malt\u001b[0m\u001b[0;34m.\u001b[0m\u001b[0mAxis\u001b[0m\u001b[0;34m(\u001b[0m\u001b[0mformat\u001b[0m\u001b[0;34m=\u001b[0m\u001b[0;34m'%'\u001b[0m\u001b[0;34m,\u001b[0m \u001b[0mtitle\u001b[0m\u001b[0;34m=\u001b[0m\u001b[0;34m'Percentage'\u001b[0m\u001b[0;34m,\u001b[0m \u001b[0moffset\u001b[0m\u001b[0;34m=\u001b[0m\u001b[0;36m4\u001b[0m\u001b[0;34m,\u001b[0m \u001b[0mvalues\u001b[0m\u001b[0;34m=\u001b[0m\u001b[0mmap\u001b[0m\u001b[0;34m(\u001b[0m\u001b[0mround\u001b[0m\u001b[0;34m,\u001b[0m \u001b[0mnp\u001b[0m\u001b[0;34m.\u001b[0m\u001b[0marange\u001b[0m\u001b[0;34m(\u001b[0m\u001b[0;36m0.0\u001b[0m\u001b[0;34m,\u001b[0m \u001b[0;36m1.0\u001b[0m\u001b[0;34m,\u001b[0m \u001b[0;36m0.25\u001b[0m\u001b[0;34m)\u001b[0m\u001b[0;34m.\u001b[0m\u001b[0mtolist\u001b[0m\u001b[0;34m(\u001b[0m\u001b[0;34m)\u001b[0m\u001b[0;34m)\u001b[0m\u001b[0;34m)\u001b[0m\u001b[0;34m,\u001b[0m\u001b[0;34m\u001b[0m\u001b[0;34m\u001b[0m\u001b[0m\n\u001b[0m\u001b[1;32m     20\u001b[0m         \u001b[0mscale\u001b[0m\u001b[0;34m=\u001b[0m\u001b[0malt\u001b[0m\u001b[0;34m.\u001b[0m\u001b[0mScale\u001b[0m\u001b[0;34m(\u001b[0m\u001b[0mdomain\u001b[0m\u001b[0;34m=\u001b[0m\u001b[0;34m(\u001b[0m\u001b[0;36m0.0\u001b[0m\u001b[0;34m,\u001b[0m \u001b[0;36m1.0\u001b[0m\u001b[0;34m)\u001b[0m\u001b[0;34m)\u001b[0m\u001b[0;34m,\u001b[0m\u001b[0;34m\u001b[0m\u001b[0;34m\u001b[0m\u001b[0m\n\u001b[1;32m     21\u001b[0m         \u001b[0mtitle\u001b[0m\u001b[0;34m=\u001b[0m\u001b[0;34m\"Percentage\"\u001b[0m\u001b[0;34m,\u001b[0m\u001b[0;34m\u001b[0m\u001b[0;34m\u001b[0m\u001b[0m\n",
      "\u001b[0;32m~/miniconda3/envs/data-viz/lib/python3.8/site-packages/altair/vegalite/v4/schema/core.py\u001b[0m in \u001b[0;36m__init__\u001b[0;34m(self, bandPosition, domain, domainColor, domainDash, domainDashOffset, domainOpacity, domainWidth, format, formatType, grid, gridColor, gridDash, gridDashOffset, gridOpacity, gridWidth, labelAlign, labelAngle, labelBaseline, labelBound, labelColor, labelExpr, labelFlush, labelFlushOffset, labelFont, labelFontSize, labelFontStyle, labelFontWeight, labelLimit, labelLineHeight, labelOffset, labelOpacity, labelOverlap, labelPadding, labelSeparation, labels, maxExtent, minExtent, offset, orient, position, style, tickBand, tickColor, tickCount, tickDash, tickDashOffset, tickExtra, tickMinStep, tickOffset, tickOpacity, tickRound, tickSize, tickWidth, ticks, title, titleAlign, titleAnchor, titleAngle, titleBaseline, titleColor, titleFont, titleFontSize, titleFontStyle, titleFontWeight, titleLimit, titleLineHeight, titleOpacity, titlePadding, titleX, titleY, translate, values, zindex, **kwds)\u001b[0m\n\u001b[1;32m    902\u001b[0m                  \u001b[0mtitlePadding\u001b[0m\u001b[0;34m=\u001b[0m\u001b[0mUndefined\u001b[0m\u001b[0;34m,\u001b[0m \u001b[0mtitleX\u001b[0m\u001b[0;34m=\u001b[0m\u001b[0mUndefined\u001b[0m\u001b[0;34m,\u001b[0m \u001b[0mtitleY\u001b[0m\u001b[0;34m=\u001b[0m\u001b[0mUndefined\u001b[0m\u001b[0;34m,\u001b[0m \u001b[0mtranslate\u001b[0m\u001b[0;34m=\u001b[0m\u001b[0mUndefined\u001b[0m\u001b[0;34m,\u001b[0m\u001b[0;34m\u001b[0m\u001b[0;34m\u001b[0m\u001b[0m\n\u001b[1;32m    903\u001b[0m                  values=Undefined, zindex=Undefined, **kwds):\n\u001b[0;32m--> 904\u001b[0;31m         super(Axis, self).__init__(bandPosition=bandPosition, domain=domain, domainColor=domainColor,\n\u001b[0m\u001b[1;32m    905\u001b[0m                                    \u001b[0mdomainDash\u001b[0m\u001b[0;34m=\u001b[0m\u001b[0mdomainDash\u001b[0m\u001b[0;34m,\u001b[0m \u001b[0mdomainDashOffset\u001b[0m\u001b[0;34m=\u001b[0m\u001b[0mdomainDashOffset\u001b[0m\u001b[0;34m,\u001b[0m\u001b[0;34m\u001b[0m\u001b[0;34m\u001b[0m\u001b[0m\n\u001b[1;32m    906\u001b[0m                                    \u001b[0mdomainOpacity\u001b[0m\u001b[0;34m=\u001b[0m\u001b[0mdomainOpacity\u001b[0m\u001b[0;34m,\u001b[0m \u001b[0mdomainWidth\u001b[0m\u001b[0;34m=\u001b[0m\u001b[0mdomainWidth\u001b[0m\u001b[0;34m,\u001b[0m \u001b[0mformat\u001b[0m\u001b[0;34m=\u001b[0m\u001b[0mformat\u001b[0m\u001b[0;34m,\u001b[0m\u001b[0;34m\u001b[0m\u001b[0;34m\u001b[0m\u001b[0m\n",
      "\u001b[0;32m~/miniconda3/envs/data-viz/lib/python3.8/site-packages/altair/utils/schemapi.py\u001b[0m in \u001b[0;36m__init__\u001b[0;34m(self, *args, **kwds)\u001b[0m\n\u001b[1;32m    174\u001b[0m \u001b[0;34m\u001b[0m\u001b[0m\n\u001b[1;32m    175\u001b[0m         \u001b[0;32mif\u001b[0m \u001b[0mDEBUG_MODE\u001b[0m \u001b[0;32mand\u001b[0m \u001b[0mself\u001b[0m\u001b[0;34m.\u001b[0m\u001b[0m_class_is_valid_at_instantiation\u001b[0m\u001b[0;34m:\u001b[0m\u001b[0;34m\u001b[0m\u001b[0;34m\u001b[0m\u001b[0m\n\u001b[0;32m--> 176\u001b[0;31m             \u001b[0mself\u001b[0m\u001b[0;34m.\u001b[0m\u001b[0mto_dict\u001b[0m\u001b[0;34m(\u001b[0m\u001b[0mvalidate\u001b[0m\u001b[0;34m=\u001b[0m\u001b[0;32mTrue\u001b[0m\u001b[0;34m)\u001b[0m\u001b[0;34m\u001b[0m\u001b[0;34m\u001b[0m\u001b[0m\n\u001b[0m\u001b[1;32m    177\u001b[0m \u001b[0;34m\u001b[0m\u001b[0m\n\u001b[1;32m    178\u001b[0m     \u001b[0;32mdef\u001b[0m \u001b[0mcopy\u001b[0m\u001b[0;34m(\u001b[0m\u001b[0mself\u001b[0m\u001b[0;34m,\u001b[0m \u001b[0mdeep\u001b[0m\u001b[0;34m=\u001b[0m\u001b[0;32mTrue\u001b[0m\u001b[0;34m,\u001b[0m \u001b[0mignore\u001b[0m\u001b[0;34m=\u001b[0m\u001b[0;34m(\u001b[0m\u001b[0;34m)\u001b[0m\u001b[0;34m)\u001b[0m\u001b[0;34m:\u001b[0m\u001b[0;34m\u001b[0m\u001b[0;34m\u001b[0m\u001b[0m\n",
      "\u001b[0;32m~/miniconda3/envs/data-viz/lib/python3.8/site-packages/altair/utils/schemapi.py\u001b[0m in \u001b[0;36mto_dict\u001b[0;34m(self, validate, ignore, context)\u001b[0m\n\u001b[1;32m    337\u001b[0m                 \u001b[0mself\u001b[0m\u001b[0;34m.\u001b[0m\u001b[0mvalidate\u001b[0m\u001b[0;34m(\u001b[0m\u001b[0mresult\u001b[0m\u001b[0;34m)\u001b[0m\u001b[0;34m\u001b[0m\u001b[0;34m\u001b[0m\u001b[0m\n\u001b[1;32m    338\u001b[0m             \u001b[0;32mexcept\u001b[0m \u001b[0mjsonschema\u001b[0m\u001b[0;34m.\u001b[0m\u001b[0mValidationError\u001b[0m \u001b[0;32mas\u001b[0m \u001b[0merr\u001b[0m\u001b[0;34m:\u001b[0m\u001b[0;34m\u001b[0m\u001b[0;34m\u001b[0m\u001b[0m\n\u001b[0;32m--> 339\u001b[0;31m                 \u001b[0;32mraise\u001b[0m \u001b[0mSchemaValidationError\u001b[0m\u001b[0;34m(\u001b[0m\u001b[0mself\u001b[0m\u001b[0;34m,\u001b[0m \u001b[0merr\u001b[0m\u001b[0;34m)\u001b[0m\u001b[0;34m\u001b[0m\u001b[0;34m\u001b[0m\u001b[0m\n\u001b[0m\u001b[1;32m    340\u001b[0m         \u001b[0;32mreturn\u001b[0m \u001b[0mresult\u001b[0m\u001b[0;34m\u001b[0m\u001b[0;34m\u001b[0m\u001b[0m\n\u001b[1;32m    341\u001b[0m \u001b[0;34m\u001b[0m\u001b[0m\n",
      "\u001b[0;31mSchemaValidationError\u001b[0m: Invalid specification\n\n        altair.vegalite.v4.schema.core.Axis->0, validating 'type'\n\n        <map object at 0x7f6da93315e0> is not of type 'array'\n        "
     ]
    }
   ],
   "source": [
    "np.random.seed(42)\n",
    "cur_color_df = color_df[color_df.intensity.isin([300, 600, 900])]\n",
    "cur_color_df = cur_color_df[~cur_color_df.base_color.isin([\"grey\", \"blueGrey\"])]\n",
    "cur_color_df = cur_color_df.reset_index(drop=True)\n",
    "cur_color_indx = sorted(np.random.choice(range(0, len(cur_color_df)), size=50, replace=False))\n",
    "color_scheme = cur_color_df.color_hex.take(cur_color_indx).tolist()\n",
    "\n",
    "genre_select = alt.selection_single(empty=\"all\", fields=[\"Genre\"], on=\"mouseover\") \n",
    "\n",
    "genre_chart = alt.Chart(\n",
    "    genre_portion_df\n",
    ").mark_bar(\n",
    "    width=18\n",
    ").encode(\n",
    "    x=alt.X(\"eventmonth:T\", title=\"Timeline\"),\n",
    "    y=alt.Y(\n",
    "        \"portion:Q\", \n",
    "        stack=True,\n",
    "        axis=alt.Axis(format='%', title='Percentage', offset=4, values=map(round, np.arange(0.0, 1.0, 0.25).tolist())), \n",
    "        scale=alt.Scale(domain=(0.0, 1.0)),\n",
    "        title=\"Percentage\",\n",
    "    ),\n",
    "    color=alt.Color(\n",
    "        \"Genre:N\",\n",
    "        scale=alt.Scale(range=color_scheme),\n",
    "        legend=alt.Legend(title=\"Genre\", orient=\"bottom\", columns=12, symbolLimit=200),\n",
    "    ),\n",
    "    opacity=alt.condition(genre_select, alt.value(1.0), alt.value(0.1)),\n",
    "    order = alt.Order('portion:Q', aggregate='sum', sort = 'ascending'),\n",
    "    tooltip=[\n",
    "        alt.Tooltip(\"Genre:N\", title=\"genre\"),\n",
    "        alt.Tooltip(\"portion:Q\", title=\"portion\"),\n",
    "        alt.Tooltip(\"eventmonth:T\", title=\"date\"),\n",
    "        alt.Tooltip(\"Artist Name:N\", title=\"top artist\"),\n",
    "        alt.Tooltip(\"Content Name:N\", title=\"top song\"),\n",
    "    ],\n",
    ").properties(\n",
    "    width=1200, height=600,\n",
    ").add_selection(\n",
    "    genre_select\n",
    ").configure_axis(\n",
    "    gridOpacity=0.3\n",
    ")\n",
    "\n",
    "genre_chart_name = \"genre-chart\"\n",
    "genre_chart.save(str(figs_folder / f\"{genre_chart_name}.html\"))\n",
    "genre_chart.save(str(figs_folder / f\"{genre_chart_name}.png\"))\n",
    "genre_chart"
   ]
  }
 ],
 "metadata": {
  "kernelspec": {
   "display_name": "Python 3",
   "language": "python",
   "name": "python3"
  },
  "language_info": {
   "codemirror_mode": {
    "name": "ipython",
    "version": 3
   },
   "file_extension": ".py",
   "mimetype": "text/x-python",
   "name": "python",
   "nbconvert_exporter": "python",
   "pygments_lexer": "ipython3",
   "version": "3.8.5"
  }
 },
 "nbformat": 4,
 "nbformat_minor": 4
}
